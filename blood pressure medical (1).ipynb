{
 "cells": [
  {
   "cell_type": "code",
   "execution_count": 1,
   "metadata": {},
   "outputs": [
    {
     "data": {
      "text/html": [
       "<div>\n",
       "<style scoped>\n",
       "    .dataframe tbody tr th:only-of-type {\n",
       "        vertical-align: middle;\n",
       "    }\n",
       "\n",
       "    .dataframe tbody tr th {\n",
       "        vertical-align: top;\n",
       "    }\n",
       "\n",
       "    .dataframe thead th {\n",
       "        text-align: right;\n",
       "    }\n",
       "</style>\n",
       "<table border=\"1\" class=\"dataframe\">\n",
       "  <thead>\n",
       "    <tr style=\"text-align: right;\">\n",
       "      <th></th>\n",
       "      <th>Sl. No.</th>\n",
       "      <th>Pulse</th>\n",
       "      <th>Systolic Pressure</th>\n",
       "      <th>Diastolic Pressure</th>\n",
       "    </tr>\n",
       "  </thead>\n",
       "  <tbody>\n",
       "    <tr>\n",
       "      <th>0</th>\n",
       "      <td>1</td>\n",
       "      <td>73</td>\n",
       "      <td>128</td>\n",
       "      <td>78</td>\n",
       "    </tr>\n",
       "    <tr>\n",
       "      <th>1</th>\n",
       "      <td>2</td>\n",
       "      <td>71</td>\n",
       "      <td>127</td>\n",
       "      <td>73</td>\n",
       "    </tr>\n",
       "    <tr>\n",
       "      <th>2</th>\n",
       "      <td>3</td>\n",
       "      <td>71</td>\n",
       "      <td>129</td>\n",
       "      <td>78</td>\n",
       "    </tr>\n",
       "    <tr>\n",
       "      <th>3</th>\n",
       "      <td>4</td>\n",
       "      <td>68</td>\n",
       "      <td>125</td>\n",
       "      <td>69</td>\n",
       "    </tr>\n",
       "    <tr>\n",
       "      <th>4</th>\n",
       "      <td>5</td>\n",
       "      <td>68</td>\n",
       "      <td>125</td>\n",
       "      <td>72</td>\n",
       "    </tr>\n",
       "  </tbody>\n",
       "</table>\n",
       "</div>"
      ],
      "text/plain": [
       "   Sl. No.  Pulse  Systolic Pressure  Diastolic Pressure\n",
       "0        1     73                128                  78\n",
       "1        2     71                127                  73\n",
       "2        3     71                129                  78\n",
       "3        4     68                125                  69\n",
       "4        5     68                125                  72"
      ]
     },
     "execution_count": 1,
     "metadata": {},
     "output_type": "execute_result"
    }
   ],
   "source": [
    "import pandas as pd\n",
    "dataset1=pd.read_csv('bdp.csv')\n",
    "dataset1.head()"
   ]
  },
  {
   "cell_type": "code",
   "execution_count": 2,
   "metadata": {},
   "outputs": [
    {
     "data": {
      "text/plain": [
       "Sl. No.               0\n",
       "Pulse                 0\n",
       "Systolic Pressure     0\n",
       "Diastolic Pressure    0\n",
       "dtype: int64"
      ]
     },
     "execution_count": 2,
     "metadata": {},
     "output_type": "execute_result"
    }
   ],
   "source": [
    "dataset1.isnull().sum()"
   ]
  },
  {
   "cell_type": "code",
   "execution_count": 3,
   "metadata": {},
   "outputs": [
    {
     "data": {
      "text/html": [
       "<div>\n",
       "<style scoped>\n",
       "    .dataframe tbody tr th:only-of-type {\n",
       "        vertical-align: middle;\n",
       "    }\n",
       "\n",
       "    .dataframe tbody tr th {\n",
       "        vertical-align: top;\n",
       "    }\n",
       "\n",
       "    .dataframe thead th {\n",
       "        text-align: right;\n",
       "    }\n",
       "</style>\n",
       "<table border=\"1\" class=\"dataframe\">\n",
       "  <thead>\n",
       "    <tr style=\"text-align: right;\">\n",
       "      <th></th>\n",
       "      <th>Sl. No.</th>\n",
       "      <th>Pulse</th>\n",
       "      <th>Systolic Pressure</th>\n",
       "      <th>Diastolic Pressure</th>\n",
       "    </tr>\n",
       "  </thead>\n",
       "  <tbody>\n",
       "    <tr>\n",
       "      <th>0</th>\n",
       "      <td>1</td>\n",
       "      <td>73</td>\n",
       "      <td>128</td>\n",
       "      <td>78</td>\n",
       "    </tr>\n",
       "    <tr>\n",
       "      <th>1</th>\n",
       "      <td>2</td>\n",
       "      <td>71</td>\n",
       "      <td>127</td>\n",
       "      <td>73</td>\n",
       "    </tr>\n",
       "    <tr>\n",
       "      <th>2</th>\n",
       "      <td>3</td>\n",
       "      <td>71</td>\n",
       "      <td>129</td>\n",
       "      <td>78</td>\n",
       "    </tr>\n",
       "    <tr>\n",
       "      <th>3</th>\n",
       "      <td>4</td>\n",
       "      <td>68</td>\n",
       "      <td>125</td>\n",
       "      <td>69</td>\n",
       "    </tr>\n",
       "    <tr>\n",
       "      <th>4</th>\n",
       "      <td>5</td>\n",
       "      <td>68</td>\n",
       "      <td>125</td>\n",
       "      <td>72</td>\n",
       "    </tr>\n",
       "    <tr>\n",
       "      <th>...</th>\n",
       "      <td>...</td>\n",
       "      <td>...</td>\n",
       "      <td>...</td>\n",
       "      <td>...</td>\n",
       "    </tr>\n",
       "    <tr>\n",
       "      <th>146</th>\n",
       "      <td>147</td>\n",
       "      <td>70</td>\n",
       "      <td>130</td>\n",
       "      <td>81</td>\n",
       "    </tr>\n",
       "    <tr>\n",
       "      <th>147</th>\n",
       "      <td>148</td>\n",
       "      <td>78</td>\n",
       "      <td>126</td>\n",
       "      <td>74</td>\n",
       "    </tr>\n",
       "    <tr>\n",
       "      <th>148</th>\n",
       "      <td>149</td>\n",
       "      <td>72</td>\n",
       "      <td>124</td>\n",
       "      <td>82</td>\n",
       "    </tr>\n",
       "    <tr>\n",
       "      <th>149</th>\n",
       "      <td>150</td>\n",
       "      <td>71</td>\n",
       "      <td>125</td>\n",
       "      <td>83</td>\n",
       "    </tr>\n",
       "    <tr>\n",
       "      <th>150</th>\n",
       "      <td>151</td>\n",
       "      <td>82</td>\n",
       "      <td>119</td>\n",
       "      <td>86</td>\n",
       "    </tr>\n",
       "  </tbody>\n",
       "</table>\n",
       "<p>151 rows × 4 columns</p>\n",
       "</div>"
      ],
      "text/plain": [
       "     Sl. No.  Pulse  Systolic Pressure  Diastolic Pressure\n",
       "0          1     73                128                  78\n",
       "1          2     71                127                  73\n",
       "2          3     71                129                  78\n",
       "3          4     68                125                  69\n",
       "4          5     68                125                  72\n",
       "..       ...    ...                ...                 ...\n",
       "146      147     70                130                  81\n",
       "147      148     78                126                  74\n",
       "148      149     72                124                  82\n",
       "149      150     71                125                  83\n",
       "150      151     82                119                  86\n",
       "\n",
       "[151 rows x 4 columns]"
      ]
     },
     "execution_count": 3,
     "metadata": {},
     "output_type": "execute_result"
    }
   ],
   "source": [
    "dataset1.dropna(axis=1)"
   ]
  },
  {
   "cell_type": "code",
   "execution_count": 4,
   "metadata": {},
   "outputs": [
    {
     "name": "stdout",
     "output_type": "stream",
     "text": [
      "<class 'pandas.core.frame.DataFrame'>\n",
      "RangeIndex: 151 entries, 0 to 150\n",
      "Data columns (total 4 columns):\n",
      " #   Column              Non-Null Count  Dtype\n",
      "---  ------              --------------  -----\n",
      " 0   Sl. No.             151 non-null    int64\n",
      " 1   Pulse               151 non-null    int64\n",
      " 2   Systolic Pressure   151 non-null    int64\n",
      " 3   Diastolic Pressure  151 non-null    int64\n",
      "dtypes: int64(4)\n",
      "memory usage: 4.8 KB\n"
     ]
    }
   ],
   "source": [
    "dataset1.info()"
   ]
  },
  {
   "cell_type": "code",
   "execution_count": 5,
   "metadata": {},
   "outputs": [
    {
     "data": {
      "text/html": [
       "<div>\n",
       "<style scoped>\n",
       "    .dataframe tbody tr th:only-of-type {\n",
       "        vertical-align: middle;\n",
       "    }\n",
       "\n",
       "    .dataframe tbody tr th {\n",
       "        vertical-align: top;\n",
       "    }\n",
       "\n",
       "    .dataframe thead th {\n",
       "        text-align: right;\n",
       "    }\n",
       "</style>\n",
       "<table border=\"1\" class=\"dataframe\">\n",
       "  <thead>\n",
       "    <tr style=\"text-align: right;\">\n",
       "      <th></th>\n",
       "      <th>Sl. No.</th>\n",
       "      <th>Pulse</th>\n",
       "      <th>Systolic Pressure</th>\n",
       "      <th>Diastolic Pressure</th>\n",
       "    </tr>\n",
       "  </thead>\n",
       "  <tbody>\n",
       "    <tr>\n",
       "      <th>count</th>\n",
       "      <td>151.000000</td>\n",
       "      <td>151.000000</td>\n",
       "      <td>151.000000</td>\n",
       "      <td>151.000000</td>\n",
       "    </tr>\n",
       "    <tr>\n",
       "      <th>mean</th>\n",
       "      <td>76.000000</td>\n",
       "      <td>75.198675</td>\n",
       "      <td>124.397351</td>\n",
       "      <td>76.509934</td>\n",
       "    </tr>\n",
       "    <tr>\n",
       "      <th>std</th>\n",
       "      <td>43.734045</td>\n",
       "      <td>6.000022</td>\n",
       "      <td>3.988449</td>\n",
       "      <td>5.278721</td>\n",
       "    </tr>\n",
       "    <tr>\n",
       "      <th>min</th>\n",
       "      <td>1.000000</td>\n",
       "      <td>66.000000</td>\n",
       "      <td>109.000000</td>\n",
       "      <td>67.000000</td>\n",
       "    </tr>\n",
       "    <tr>\n",
       "      <th>25%</th>\n",
       "      <td>38.500000</td>\n",
       "      <td>71.000000</td>\n",
       "      <td>122.000000</td>\n",
       "      <td>73.000000</td>\n",
       "    </tr>\n",
       "    <tr>\n",
       "      <th>50%</th>\n",
       "      <td>76.000000</td>\n",
       "      <td>73.000000</td>\n",
       "      <td>125.000000</td>\n",
       "      <td>76.000000</td>\n",
       "    </tr>\n",
       "    <tr>\n",
       "      <th>75%</th>\n",
       "      <td>113.500000</td>\n",
       "      <td>79.000000</td>\n",
       "      <td>127.000000</td>\n",
       "      <td>79.500000</td>\n",
       "    </tr>\n",
       "    <tr>\n",
       "      <th>max</th>\n",
       "      <td>151.000000</td>\n",
       "      <td>93.000000</td>\n",
       "      <td>134.000000</td>\n",
       "      <td>92.000000</td>\n",
       "    </tr>\n",
       "  </tbody>\n",
       "</table>\n",
       "</div>"
      ],
      "text/plain": [
       "          Sl. No.       Pulse  Systolic Pressure  Diastolic Pressure\n",
       "count  151.000000  151.000000         151.000000          151.000000\n",
       "mean    76.000000   75.198675         124.397351           76.509934\n",
       "std     43.734045    6.000022           3.988449            5.278721\n",
       "min      1.000000   66.000000         109.000000           67.000000\n",
       "25%     38.500000   71.000000         122.000000           73.000000\n",
       "50%     76.000000   73.000000         125.000000           76.000000\n",
       "75%    113.500000   79.000000         127.000000           79.500000\n",
       "max    151.000000   93.000000         134.000000           92.000000"
      ]
     },
     "execution_count": 5,
     "metadata": {},
     "output_type": "execute_result"
    }
   ],
   "source": [
    "dataset1.describe()"
   ]
  },
  {
   "cell_type": "code",
   "execution_count": 6,
   "metadata": {},
   "outputs": [
    {
     "data": {
      "text/html": [
       "<div>\n",
       "<style scoped>\n",
       "    .dataframe tbody tr th:only-of-type {\n",
       "        vertical-align: middle;\n",
       "    }\n",
       "\n",
       "    .dataframe tbody tr th {\n",
       "        vertical-align: top;\n",
       "    }\n",
       "\n",
       "    .dataframe thead th {\n",
       "        text-align: right;\n",
       "    }\n",
       "</style>\n",
       "<table border=\"1\" class=\"dataframe\">\n",
       "  <thead>\n",
       "    <tr style=\"text-align: right;\">\n",
       "      <th></th>\n",
       "      <th>Pulse</th>\n",
       "      <th>Systolic Pressure</th>\n",
       "      <th>Diastolic Pressure</th>\n",
       "    </tr>\n",
       "  </thead>\n",
       "  <tbody>\n",
       "    <tr>\n",
       "      <th>0</th>\n",
       "      <td>73</td>\n",
       "      <td>128</td>\n",
       "      <td>78</td>\n",
       "    </tr>\n",
       "    <tr>\n",
       "      <th>1</th>\n",
       "      <td>71</td>\n",
       "      <td>127</td>\n",
       "      <td>73</td>\n",
       "    </tr>\n",
       "    <tr>\n",
       "      <th>2</th>\n",
       "      <td>71</td>\n",
       "      <td>129</td>\n",
       "      <td>78</td>\n",
       "    </tr>\n",
       "    <tr>\n",
       "      <th>3</th>\n",
       "      <td>68</td>\n",
       "      <td>125</td>\n",
       "      <td>69</td>\n",
       "    </tr>\n",
       "    <tr>\n",
       "      <th>4</th>\n",
       "      <td>68</td>\n",
       "      <td>125</td>\n",
       "      <td>72</td>\n",
       "    </tr>\n",
       "  </tbody>\n",
       "</table>\n",
       "</div>"
      ],
      "text/plain": [
       "   Pulse  Systolic Pressure  Diastolic Pressure\n",
       "0     73                128                  78\n",
       "1     71                127                  73\n",
       "2     71                129                  78\n",
       "3     68                125                  69\n",
       "4     68                125                  72"
      ]
     },
     "execution_count": 6,
     "metadata": {},
     "output_type": "execute_result"
    }
   ],
   "source": [
    "df=dataset1.drop(['Sl. No.'],axis=1)\n",
    "df.head()"
   ]
  },
  {
   "cell_type": "code",
   "execution_count": 7,
   "metadata": {},
   "outputs": [
    {
     "data": {
      "text/html": [
       "<div>\n",
       "<style scoped>\n",
       "    .dataframe tbody tr th:only-of-type {\n",
       "        vertical-align: middle;\n",
       "    }\n",
       "\n",
       "    .dataframe tbody tr th {\n",
       "        vertical-align: top;\n",
       "    }\n",
       "\n",
       "    .dataframe thead th {\n",
       "        text-align: right;\n",
       "    }\n",
       "</style>\n",
       "<table border=\"1\" class=\"dataframe\">\n",
       "  <thead>\n",
       "    <tr style=\"text-align: right;\">\n",
       "      <th></th>\n",
       "      <th>Pulse</th>\n",
       "    </tr>\n",
       "  </thead>\n",
       "  <tbody>\n",
       "    <tr>\n",
       "      <th>0</th>\n",
       "      <td>73</td>\n",
       "    </tr>\n",
       "    <tr>\n",
       "      <th>1</th>\n",
       "      <td>71</td>\n",
       "    </tr>\n",
       "    <tr>\n",
       "      <th>2</th>\n",
       "      <td>71</td>\n",
       "    </tr>\n",
       "    <tr>\n",
       "      <th>3</th>\n",
       "      <td>68</td>\n",
       "    </tr>\n",
       "    <tr>\n",
       "      <th>4</th>\n",
       "      <td>68</td>\n",
       "    </tr>\n",
       "  </tbody>\n",
       "</table>\n",
       "</div>"
      ],
      "text/plain": [
       "   Pulse\n",
       "0     73\n",
       "1     71\n",
       "2     71\n",
       "3     68\n",
       "4     68"
      ]
     },
     "execution_count": 7,
     "metadata": {},
     "output_type": "execute_result"
    }
   ],
   "source": [
    "x=df.iloc[:,:1]\n",
    "y=df.iloc[:,-1]\n",
    "z=df.iloc[:,-2]\n",
    "x.head()"
   ]
  },
  {
   "cell_type": "code",
   "execution_count": 8,
   "metadata": {},
   "outputs": [
    {
     "data": {
      "text/plain": [
       "LinearRegression(copy_X=True, fit_intercept=True, n_jobs=None, normalize=False)"
      ]
     },
     "execution_count": 8,
     "metadata": {},
     "output_type": "execute_result"
    }
   ],
   "source": [
    "from sklearn.linear_model import LinearRegression\n",
    "from sklearn.model_selection import train_test_split\n",
    "l_train,l_test,r_train,r_test=train_test_split(x,y,test_size=0.2,random_state=0)\n",
    "lr=LinearRegression()\n",
    "lr.fit(l_train,r_train)"
   ]
  },
  {
   "cell_type": "code",
   "execution_count": 9,
   "metadata": {},
   "outputs": [
    {
     "data": {
      "image/png": "[encoded data removed]",
      "text/plain": [
       "<Figure size 720x720 with 1 Axes>"
      ]
     },
     "metadata": {
      "needs_background": "light"
     },
     "output_type": "display_data"
    }
   ],
   "source": [
    "import matplotlib.pyplot as plt\n",
    "plt.figure(figsize=(10,10))\n",
    "plt.scatter(l_train,r_train,color='yellow')\n",
    "plt.plot(l_train,lr.predict(l_train),color='blue')\n",
    "plt.title('linear regression on student pulse and diastolic pressure on training dataset')\n",
    "plt.show()"
   ]
  },
  {
   "cell_type": "code",
   "execution_count": 10,
   "metadata": {},
   "outputs": [
    {
     "data": {
      "image/png": "[encoded data removed]",
      "text/plain": [
       "<Figure size 720x720 with 1 Axes>"
      ]
     },
     "metadata": {
      "needs_background": "light"
     },
     "output_type": "display_data"
    }
   ],
   "source": [
    "plt.figure(figsize=(10,10))\n",
    "plt.scatter(l_test,r_test,color='yellow')\n",
    "plt.plot(l_test,lr.predict(l_test),color='blue')\n",
    "plt.title('linear regression on student pulse and diastolic pressure on test dataset')\n",
    "plt.show()"
   ]
  },
  {
   "cell_type": "code",
   "execution_count": 11,
   "metadata": {},
   "outputs": [
    {
     "data": {
      "text/plain": [
       "LinearRegression(copy_X=True, fit_intercept=True, n_jobs=None, normalize=False)"
      ]
     },
     "execution_count": 11,
     "metadata": {},
     "output_type": "execute_result"
    }
   ],
   "source": [
    "l_train,l_test,r_train,r_test=train_test_split(x,z,test_size=0.2,random_state=0)\n",
    "lr.fit(l_train,r_train)"
   ]
  },
  {
   "cell_type": "code",
   "execution_count": 12,
   "metadata": {},
   "outputs": [
    {
     "data": {
      "image/png": "[encoded data removed]",
      "text/plain": [
       "<Figure size 720x720 with 1 Axes>"
      ]
     },
     "metadata": {
      "needs_background": "light"
     },
     "output_type": "display_data"
    }
   ],
   "source": [
    "plt.figure(figsize=(10,10))\n",
    "plt.scatter(l_train,r_train,color='red')\n",
    "plt.plot(l_train,lr.predict(l_train),color='green')\n",
    "plt.title('linear regression on student pulse and systolic pressure on training dataset')\n",
    "plt.show()"
   ]
  },
  {
   "cell_type": "code",
   "execution_count": 13,
   "metadata": {},
   "outputs": [
    {
     "data": {
      "image/png": "[encoded data removed]",
      "text/plain": [
       "<Figure size 720x720 with 1 Axes>"
      ]
     },
     "metadata": {
      "needs_background": "light"
     },
     "output_type": "display_data"
    }
   ],
   "source": [
    "plt.figure(figsize=(10,10))\n",
    "plt.scatter(l_test,r_test,color='red')\n",
    "plt.plot(l_test,lr.predict(l_test),color='green')\n",
    "plt.title('linear regression on student pulse and systolic pressure on test dataset')\n",
    "plt.show()"
   ]
  },
  {
   "cell_type": "code",
   "execution_count": 14,
   "metadata": {},
   "outputs": [
    {
     "data": {
      "text/html": [
       "<div>\n",
       "<style scoped>\n",
       "    .dataframe tbody tr th:only-of-type {\n",
       "        vertical-align: middle;\n",
       "    }\n",
       "\n",
       "    .dataframe tbody tr th {\n",
       "        vertical-align: top;\n",
       "    }\n",
       "\n",
       "    .dataframe thead th {\n",
       "        text-align: right;\n",
       "    }\n",
       "</style>\n",
       "<table border=\"1\" class=\"dataframe\">\n",
       "  <thead>\n",
       "    <tr style=\"text-align: right;\">\n",
       "      <th></th>\n",
       "      <th>Systolic Pressure</th>\n",
       "      <th>Diastolic Pressure</th>\n",
       "    </tr>\n",
       "  </thead>\n",
       "  <tbody>\n",
       "    <tr>\n",
       "      <th>0</th>\n",
       "      <td>128</td>\n",
       "      <td>78</td>\n",
       "    </tr>\n",
       "    <tr>\n",
       "      <th>1</th>\n",
       "      <td>127</td>\n",
       "      <td>73</td>\n",
       "    </tr>\n",
       "    <tr>\n",
       "      <th>2</th>\n",
       "      <td>129</td>\n",
       "      <td>78</td>\n",
       "    </tr>\n",
       "    <tr>\n",
       "      <th>3</th>\n",
       "      <td>125</td>\n",
       "      <td>69</td>\n",
       "    </tr>\n",
       "    <tr>\n",
       "      <th>4</th>\n",
       "      <td>125</td>\n",
       "      <td>72</td>\n",
       "    </tr>\n",
       "  </tbody>\n",
       "</table>\n",
       "</div>"
      ],
      "text/plain": [
       "   Systolic Pressure  Diastolic Pressure\n",
       "0                128                  78\n",
       "1                127                  73\n",
       "2                129                  78\n",
       "3                125                  69\n",
       "4                125                  72"
      ]
     },
     "execution_count": 14,
     "metadata": {},
     "output_type": "execute_result"
    }
   ],
   "source": [
    "y1=df.iloc[:,1:3]\n",
    "x1=df.iloc[:,:-2]\n",
    "y1.head()"
   ]
  },
  {
   "cell_type": "code",
   "execution_count": 15,
   "metadata": {},
   "outputs": [
    {
     "data": {
      "text/html": [
       "<div>\n",
       "<style scoped>\n",
       "    .dataframe tbody tr th:only-of-type {\n",
       "        vertical-align: middle;\n",
       "    }\n",
       "\n",
       "    .dataframe tbody tr th {\n",
       "        vertical-align: top;\n",
       "    }\n",
       "\n",
       "    .dataframe thead th {\n",
       "        text-align: right;\n",
       "    }\n",
       "</style>\n",
       "<table border=\"1\" class=\"dataframe\">\n",
       "  <thead>\n",
       "    <tr style=\"text-align: right;\">\n",
       "      <th></th>\n",
       "      <th>Pulse</th>\n",
       "    </tr>\n",
       "  </thead>\n",
       "  <tbody>\n",
       "    <tr>\n",
       "      <th>0</th>\n",
       "      <td>73</td>\n",
       "    </tr>\n",
       "    <tr>\n",
       "      <th>1</th>\n",
       "      <td>71</td>\n",
       "    </tr>\n",
       "    <tr>\n",
       "      <th>2</th>\n",
       "      <td>71</td>\n",
       "    </tr>\n",
       "    <tr>\n",
       "      <th>3</th>\n",
       "      <td>68</td>\n",
       "    </tr>\n",
       "    <tr>\n",
       "      <th>4</th>\n",
       "      <td>68</td>\n",
       "    </tr>\n",
       "  </tbody>\n",
       "</table>\n",
       "</div>"
      ],
      "text/plain": [
       "   Pulse\n",
       "0     73\n",
       "1     71\n",
       "2     71\n",
       "3     68\n",
       "4     68"
      ]
     },
     "execution_count": 15,
     "metadata": {},
     "output_type": "execute_result"
    }
   ],
   "source": [
    "x1.head()"
   ]
  },
  {
   "cell_type": "code",
   "execution_count": 16,
   "metadata": {},
   "outputs": [],
   "source": [
    "x_train,x_test,y_train,y_test=train_test_split(x1,y1,test_size=0.2,random_state=0)"
   ]
  },
  {
   "cell_type": "code",
   "execution_count": 17,
   "metadata": {},
   "outputs": [
    {
     "data": {
      "text/plain": [
       "LinearRegression(copy_X=True, fit_intercept=True, n_jobs=None, normalize=False)"
      ]
     },
     "execution_count": 17,
     "metadata": {},
     "output_type": "execute_result"
    }
   ],
   "source": [
    "lr.fit(x_train,y_train)"
   ]
  },
  {
   "cell_type": "code",
   "execution_count": 18,
   "metadata": {},
   "outputs": [
    {
     "data": {
      "text/plain": [
       "array([[124.63316495,  76.93865587],\n",
       "       [123.79212316,  75.01030298],\n",
       "       [123.5518255 ,  74.45934501],\n",
       "       [124.51301612,  76.66317689],\n",
       "       [123.79212316,  75.01030298],\n",
       "       [123.67197433,  74.734824  ],\n",
       "       [126.31524854,  80.79536166],\n",
       "       [125.23390909,  78.3160508 ],\n",
       "       [125.47420675,  78.86700877],\n",
       "       [125.7145044 ,  79.41796673],\n",
       "       [125.35405792,  78.59152978],\n",
       "       [124.75331378,  77.21413486],\n",
       "       [125.83465323,  79.69344572],\n",
       "       [124.3928673 ,  76.38769791],\n",
       "       [123.79212316,  75.01030298],\n",
       "       [124.51301612,  76.66317689],\n",
       "       [125.11376026,  78.04057181],\n",
       "       [125.35405792,  78.59152978],\n",
       "       [125.23390909,  78.3160508 ],\n",
       "       [123.79212316,  75.01030298],\n",
       "       [123.67197433,  74.734824  ],\n",
       "       [124.15256964,  75.83673994],\n",
       "       [125.35405792,  78.59152978],\n",
       "       [124.15256964,  75.83673994],\n",
       "       [123.91227198,  75.28578197],\n",
       "       [125.83465323,  79.69344572],\n",
       "       [123.67197433,  74.734824  ],\n",
       "       [124.75331378,  77.21413486],\n",
       "       [124.03242081,  75.56126095],\n",
       "       [125.95480206,  79.9689247 ],\n",
       "       [124.75331378,  77.21413486]])"
      ]
     },
     "execution_count": 18,
     "metadata": {},
     "output_type": "execute_result"
    }
   ],
   "source": [
    "pred1=lr.predict(x_test)\n",
    "pred1"
   ]
  },
  {
   "cell_type": "code",
   "execution_count": 19,
   "metadata": {},
   "outputs": [
    {
     "name": "stdout",
     "output_type": "stream",
     "text": [
      "73\n"
     ]
    },
    {
     "data": {
      "text/plain": [
       "array([[124.27271847,  76.11221892]])"
      ]
     },
     "execution_count": 19,
     "metadata": {},
     "output_type": "execute_result"
    }
   ],
   "source": [
    "n=int(input())\n",
    "x=[[n]]\n",
    "pred=lr.predict(x)\n",
    "pred"
   ]
  },
  {
   "cell_type": "code",
   "execution_count": 20,
   "metadata": {},
   "outputs": [],
   "source": [
    "from sklearn.metrics import mean_squared_error"
   ]
  },
  {
   "cell_type": "code",
   "execution_count": 21,
   "metadata": {},
   "outputs": [
    {
     "data": {
      "text/html": [
       "<div>\n",
       "<style scoped>\n",
       "    .dataframe tbody tr th:only-of-type {\n",
       "        vertical-align: middle;\n",
       "    }\n",
       "\n",
       "    .dataframe tbody tr th {\n",
       "        vertical-align: top;\n",
       "    }\n",
       "\n",
       "    .dataframe thead th {\n",
       "        text-align: right;\n",
       "    }\n",
       "</style>\n",
       "<table border=\"1\" class=\"dataframe\">\n",
       "  <thead>\n",
       "    <tr style=\"text-align: right;\">\n",
       "      <th></th>\n",
       "      <th>Systolic Pressure</th>\n",
       "      <th>Diastolic Pressure</th>\n",
       "    </tr>\n",
       "  </thead>\n",
       "  <tbody>\n",
       "    <tr>\n",
       "      <th>114</th>\n",
       "      <td>125</td>\n",
       "      <td>71</td>\n",
       "    </tr>\n",
       "    <tr>\n",
       "      <th>62</th>\n",
       "      <td>125</td>\n",
       "      <td>72</td>\n",
       "    </tr>\n",
       "    <tr>\n",
       "      <th>33</th>\n",
       "      <td>116</td>\n",
       "      <td>74</td>\n",
       "    </tr>\n",
       "    <tr>\n",
       "      <th>107</th>\n",
       "      <td>121</td>\n",
       "      <td>73</td>\n",
       "    </tr>\n",
       "    <tr>\n",
       "      <th>7</th>\n",
       "      <td>121</td>\n",
       "      <td>69</td>\n",
       "    </tr>\n",
       "    <tr>\n",
       "      <th>100</th>\n",
       "      <td>129</td>\n",
       "      <td>69</td>\n",
       "    </tr>\n",
       "    <tr>\n",
       "      <th>40</th>\n",
       "      <td>128</td>\n",
       "      <td>86</td>\n",
       "    </tr>\n",
       "    <tr>\n",
       "      <th>86</th>\n",
       "      <td>125</td>\n",
       "      <td>80</td>\n",
       "    </tr>\n",
       "    <tr>\n",
       "      <th>76</th>\n",
       "      <td>128</td>\n",
       "      <td>77</td>\n",
       "    </tr>\n",
       "    <tr>\n",
       "      <th>71</th>\n",
       "      <td>109</td>\n",
       "      <td>71</td>\n",
       "    </tr>\n",
       "    <tr>\n",
       "      <th>134</th>\n",
       "      <td>123</td>\n",
       "      <td>87</td>\n",
       "    </tr>\n",
       "    <tr>\n",
       "      <th>51</th>\n",
       "      <td>126</td>\n",
       "      <td>75</td>\n",
       "    </tr>\n",
       "    <tr>\n",
       "      <th>73</th>\n",
       "      <td>124</td>\n",
       "      <td>78</td>\n",
       "    </tr>\n",
       "    <tr>\n",
       "      <th>54</th>\n",
       "      <td>123</td>\n",
       "      <td>76</td>\n",
       "    </tr>\n",
       "    <tr>\n",
       "      <th>63</th>\n",
       "      <td>126</td>\n",
       "      <td>70</td>\n",
       "    </tr>\n",
       "    <tr>\n",
       "      <th>37</th>\n",
       "      <td>134</td>\n",
       "      <td>90</td>\n",
       "    </tr>\n",
       "    <tr>\n",
       "      <th>78</th>\n",
       "      <td>125</td>\n",
       "      <td>75</td>\n",
       "    </tr>\n",
       "    <tr>\n",
       "      <th>90</th>\n",
       "      <td>123</td>\n",
       "      <td>73</td>\n",
       "    </tr>\n",
       "    <tr>\n",
       "      <th>45</th>\n",
       "      <td>122</td>\n",
       "      <td>80</td>\n",
       "    </tr>\n",
       "    <tr>\n",
       "      <th>16</th>\n",
       "      <td>121</td>\n",
       "      <td>73</td>\n",
       "    </tr>\n",
       "    <tr>\n",
       "      <th>121</th>\n",
       "      <td>122</td>\n",
       "      <td>67</td>\n",
       "    </tr>\n",
       "    <tr>\n",
       "      <th>66</th>\n",
       "      <td>124</td>\n",
       "      <td>71</td>\n",
       "    </tr>\n",
       "    <tr>\n",
       "      <th>24</th>\n",
       "      <td>125</td>\n",
       "      <td>83</td>\n",
       "    </tr>\n",
       "    <tr>\n",
       "      <th>8</th>\n",
       "      <td>128</td>\n",
       "      <td>77</td>\n",
       "    </tr>\n",
       "    <tr>\n",
       "      <th>126</th>\n",
       "      <td>125</td>\n",
       "      <td>71</td>\n",
       "    </tr>\n",
       "    <tr>\n",
       "      <th>22</th>\n",
       "      <td>123</td>\n",
       "      <td>72</td>\n",
       "    </tr>\n",
       "    <tr>\n",
       "      <th>44</th>\n",
       "      <td>125</td>\n",
       "      <td>78</td>\n",
       "    </tr>\n",
       "    <tr>\n",
       "      <th>97</th>\n",
       "      <td>129</td>\n",
       "      <td>70</td>\n",
       "    </tr>\n",
       "    <tr>\n",
       "      <th>93</th>\n",
       "      <td>124</td>\n",
       "      <td>75</td>\n",
       "    </tr>\n",
       "    <tr>\n",
       "      <th>26</th>\n",
       "      <td>123</td>\n",
       "      <td>88</td>\n",
       "    </tr>\n",
       "    <tr>\n",
       "      <th>137</th>\n",
       "      <td>122</td>\n",
       "      <td>86</td>\n",
       "    </tr>\n",
       "  </tbody>\n",
       "</table>\n",
       "</div>"
      ],
      "text/plain": [
       "     Systolic Pressure  Diastolic Pressure\n",
       "114                125                  71\n",
       "62                 125                  72\n",
       "33                 116                  74\n",
       "107                121                  73\n",
       "7                  121                  69\n",
       "100                129                  69\n",
       "40                 128                  86\n",
       "86                 125                  80\n",
       "76                 128                  77\n",
       "71                 109                  71\n",
       "134                123                  87\n",
       "51                 126                  75\n",
       "73                 124                  78\n",
       "54                 123                  76\n",
       "63                 126                  70\n",
       "37                 134                  90\n",
       "78                 125                  75\n",
       "90                 123                  73\n",
       "45                 122                  80\n",
       "16                 121                  73\n",
       "121                122                  67\n",
       "66                 124                  71\n",
       "24                 125                  83\n",
       "8                  128                  77\n",
       "126                125                  71\n",
       "22                 123                  72\n",
       "44                 125                  78\n",
       "97                 129                  70\n",
       "93                 124                  75\n",
       "26                 123                  88\n",
       "137                122                  86"
      ]
     },
     "execution_count": 21,
     "metadata": {},
     "output_type": "execute_result"
    }
   ],
   "source": [
    "y_test"
   ]
  },
  {
   "cell_type": "code",
   "execution_count": 22,
   "metadata": {},
   "outputs": [
    {
     "data": {
      "text/plain": [
       "4.978119011928573"
      ]
     },
     "execution_count": 22,
     "metadata": {},
     "output_type": "execute_result"
    }
   ],
   "source": [
    "import numpy as np\n",
    "rmse=np.sqrt(mean_squared_error(y_test,pred1))\n",
    "rmse"
   ]
  },
  {
   "cell_type": "code",
   "execution_count": 23,
   "metadata": {},
   "outputs": [
    {
     "name": "stdout",
     "output_type": "stream",
     "text": [
      "{'actual': [     Systolic Pressure  Diastolic Pressure\n",
      "114                125                  71\n",
      "62                 125                  72\n",
      "33                 116                  74\n",
      "107                121                  73\n",
      "7                  121                  69\n",
      "100                129                  69\n",
      "40                 128                  86\n",
      "86                 125                  80\n",
      "76                 128                  77\n",
      "71                 109                  71\n",
      "134                123                  87\n",
      "51                 126                  75\n",
      "73                 124                  78\n",
      "54                 123                  76\n",
      "63                 126                  70\n",
      "37                 134                  90\n",
      "78                 125                  75\n",
      "90                 123                  73\n",
      "45                 122                  80\n",
      "16                 121                  73\n",
      "121                122                  67\n",
      "66                 124                  71\n",
      "24                 125                  83\n",
      "8                  128                  77\n",
      "126                125                  71\n",
      "22                 123                  72\n",
      "44                 125                  78\n",
      "97                 129                  70\n",
      "93                 124                  75\n",
      "26                 123                  88\n",
      "137                122                  86], 'prediction': [array([[124.63316495,  76.93865587],\n",
      "       [123.79212316,  75.01030298],\n",
      "       [123.5518255 ,  74.45934501],\n",
      "       [124.51301612,  76.66317689],\n",
      "       [123.79212316,  75.01030298],\n",
      "       [123.67197433,  74.734824  ],\n",
      "       [126.31524854,  80.79536166],\n",
      "       [125.23390909,  78.3160508 ],\n",
      "       [125.47420675,  78.86700877],\n",
      "       [125.7145044 ,  79.41796673],\n",
      "       [125.35405792,  78.59152978],\n",
      "       [124.75331378,  77.21413486],\n",
      "       [125.83465323,  79.69344572],\n",
      "       [124.3928673 ,  76.38769791],\n",
      "       [123.79212316,  75.01030298],\n",
      "       [124.51301612,  76.66317689],\n",
      "       [125.11376026,  78.04057181],\n",
      "       [125.35405792,  78.59152978],\n",
      "       [125.23390909,  78.3160508 ],\n",
      "       [123.79212316,  75.01030298],\n",
      "       [123.67197433,  74.734824  ],\n",
      "       [124.15256964,  75.83673994],\n",
      "       [125.35405792,  78.59152978],\n",
      "       [124.15256964,  75.83673994],\n",
      "       [123.91227198,  75.28578197],\n",
      "       [125.83465323,  79.69344572],\n",
      "       [123.67197433,  74.734824  ],\n",
      "       [124.75331378,  77.21413486],\n",
      "       [124.03242081,  75.56126095],\n",
      "       [125.95480206,  79.9689247 ],\n",
      "       [124.75331378,  77.21413486]])]}\n"
     ]
    }
   ],
   "source": [
    "lst={\n",
    "    'actual':[y_test],\n",
    "    'prediction':[pred1]\n",
    "}\n",
    "dtf=pd.DataFrame.from_dict(lst)\n",
    "print(lst)"
   ]
  },
  {
   "cell_type": "code",
   "execution_count": 24,
   "metadata": {},
   "outputs": [
    {
     "data": {
      "text/plain": [
       "array([[125.        ,  75.90909091],\n",
       "       [125.66666667,  76.        ],\n",
       "       [123.33333333,  82.66666667],\n",
       "       [123.25      ,  77.75      ],\n",
       "       [125.66666667,  76.        ],\n",
       "       [122.        ,  75.        ],\n",
       "       [130.        ,  81.        ],\n",
       "       [126.33333333,  76.        ],\n",
       "       [123.        ,  79.5       ],\n",
       "       [134.        ,  76.        ],\n",
       "       [117.        ,  83.5       ],\n",
       "       [126.28571429,  72.42857143],\n",
       "       [134.        ,  76.        ],\n",
       "       [123.5       ,  75.        ],\n",
       "       [125.66666667,  76.        ],\n",
       "       [123.25      ,  77.75      ],\n",
       "       [124.        ,  80.8       ],\n",
       "       [117.        ,  83.5       ],\n",
       "       [126.33333333,  76.        ],\n",
       "       [125.66666667,  76.        ],\n",
       "       [122.        ,  75.        ],\n",
       "       [123.93333333,  75.26666667],\n",
       "       [117.        ,  83.5       ],\n",
       "       [123.93333333,  75.26666667],\n",
       "       [124.375     ,  76.        ],\n",
       "       [134.        ,  76.        ],\n",
       "       [122.        ,  75.        ],\n",
       "       [126.28571429,  72.42857143],\n",
       "       [126.4       ,  74.5       ],\n",
       "       [128.        ,  87.5       ],\n",
       "       [126.28571429,  72.42857143]])"
      ]
     },
     "execution_count": 24,
     "metadata": {},
     "output_type": "execute_result"
    }
   ],
   "source": [
    "from sklearn.tree import DecisionTreeRegressor\n",
    "dtree=DecisionTreeRegressor()\n",
    "dtree.fit(x_train,y_train)\n",
    "pred2=dtree.predict(x_test)\n",
    "pred2"
   ]
  },
  {
   "cell_type": "code",
   "execution_count": 25,
   "metadata": {},
   "outputs": [
    {
     "name": "stdout",
     "output_type": "stream",
     "text": [
      "73\n"
     ]
    },
    {
     "data": {
      "text/plain": [
       "array([[123.07692308,  75.        ]])"
      ]
     },
     "execution_count": 25,
     "metadata": {},
     "output_type": "execute_result"
    }
   ],
   "source": [
    "n=int(input())\n",
    "new_input=[[n]]\n",
    "new_output=dtree.predict(new_input)\n",
    "new_output"
   ]
  },
  {
   "cell_type": "code",
   "execution_count": 26,
   "metadata": {},
   "outputs": [
    {
     "data": {
      "text/plain": [
       "6.199254207618664"
      ]
     },
     "execution_count": 26,
     "metadata": {},
     "output_type": "execute_result"
    }
   ],
   "source": [
    "rmse2=np.sqrt(mean_squared_error(y_test,pred2))\n",
    "rmse2"
   ]
  },
  {
   "cell_type": "code",
   "execution_count": 27,
   "metadata": {},
   "outputs": [
    {
     "name": "stdout",
     "output_type": "stream",
     "text": [
      "{'actual': [     Systolic Pressure  Diastolic Pressure\n",
      "114                125                  71\n",
      "62                 125                  72\n",
      "33                 116                  74\n",
      "107                121                  73\n",
      "7                  121                  69\n",
      "100                129                  69\n",
      "40                 128                  86\n",
      "86                 125                  80\n",
      "76                 128                  77\n",
      "71                 109                  71\n",
      "134                123                  87\n",
      "51                 126                  75\n",
      "73                 124                  78\n",
      "54                 123                  76\n",
      "63                 126                  70\n",
      "37                 134                  90\n",
      "78                 125                  75\n",
      "90                 123                  73\n",
      "45                 122                  80\n",
      "16                 121                  73\n",
      "121                122                  67\n",
      "66                 124                  71\n",
      "24                 125                  83\n",
      "8                  128                  77\n",
      "126                125                  71\n",
      "22                 123                  72\n",
      "44                 125                  78\n",
      "97                 129                  70\n",
      "93                 124                  75\n",
      "26                 123                  88\n",
      "137                122                  86], 'prediction': [array([[125.        ,  75.90909091],\n",
      "       [125.66666667,  76.        ],\n",
      "       [123.33333333,  82.66666667],\n",
      "       [123.25      ,  77.75      ],\n",
      "       [125.66666667,  76.        ],\n",
      "       [122.        ,  75.        ],\n",
      "       [130.        ,  81.        ],\n",
      "       [126.33333333,  76.        ],\n",
      "       [123.        ,  79.5       ],\n",
      "       [134.        ,  76.        ],\n",
      "       [117.        ,  83.5       ],\n",
      "       [126.28571429,  72.42857143],\n",
      "       [134.        ,  76.        ],\n",
      "       [123.5       ,  75.        ],\n",
      "       [125.66666667,  76.        ],\n",
      "       [123.25      ,  77.75      ],\n",
      "       [124.        ,  80.8       ],\n",
      "       [117.        ,  83.5       ],\n",
      "       [126.33333333,  76.        ],\n",
      "       [125.66666667,  76.        ],\n",
      "       [122.        ,  75.        ],\n",
      "       [123.93333333,  75.26666667],\n",
      "       [117.        ,  83.5       ],\n",
      "       [123.93333333,  75.26666667],\n",
      "       [124.375     ,  76.        ],\n",
      "       [134.        ,  76.        ],\n",
      "       [122.        ,  75.        ],\n",
      "       [126.28571429,  72.42857143],\n",
      "       [126.4       ,  74.5       ],\n",
      "       [128.        ,  87.5       ],\n",
      "       [126.28571429,  72.42857143]])]}\n"
     ]
    }
   ],
   "source": [
    "lst1={\n",
    "    'actual':[y_test],\n",
    "    'prediction':[pred2]\n",
    "}\n",
    "dtf=pd.DataFrame.from_dict(lst1)\n",
    "print(lst1)"
   ]
  }
 ],
 "metadata": {
  "kernelspec": {
   "display_name": "Python 3",
   "language": "python",
   "name": "python3"
  },
  "language_info": {
   "codemirror_mode": {
    "name": "ipython",
    "version": 3
   },
   "file_extension": ".py",
   "mimetype": "text/x-python",
   "name": "python",
   "nbconvert_exporter": "python",
   "pygments_lexer": "ipython3",
   "version": "3.7.6"
  }
 },
 "nbformat": 4,
 "nbformat_minor": 4
}
